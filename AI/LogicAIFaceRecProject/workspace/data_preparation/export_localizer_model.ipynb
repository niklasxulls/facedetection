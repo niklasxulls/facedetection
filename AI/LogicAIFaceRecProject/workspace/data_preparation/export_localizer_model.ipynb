{
 "cells": [
  {
   "cell_type": "code",
   "execution_count": 1,
   "metadata": {},
   "outputs": [],
   "source": [
    "import os, sys\n",
    "import tensorflow as tf\n",
    "os.chdir('..')\n",
    "join = os.path.join(os.getcwd(), '_global')\n",
    "sys.path.extend([join])\n",
    "from _global.config import *\n",
    "from _global.funcs import *\n",
    "from _global.bbx import *"
   ]
  },
  {
   "cell_type": "code",
   "execution_count": 4,
   "metadata": {},
   "outputs": [
    {
     "name": "stdout",
     "output_type": "stream",
     "text": [
      "python C:\\Users\\niklas\\Desktop\\AI\\Projekte\\Face_Recognition_Ullsperger\\LogicAIFaceRecProject\\models\\research\\object_detection\\exporter_main_v2.py --input_type=image_tensor --pipeline_config_path=C:\\Users\\niklas\\Desktop\\AI\\Projekte\\Face_Recognition_Ullsperger\\LogicAIFaceRecProject\\workspace\\models\\ssd_mobilenet_v2_fpnlite_640x640_coco17_tpu-8\\v5\\pipeline.config --trained_checkpoint_dir=C:\\Users\\niklas\\Desktop\\AI\\Projekte\\Face_Recognition_Ullsperger\\LogicAIFaceRecProject\\workspace\\models\\ssd_mobilenet_v2_fpnlite_640x640_coco17_tpu-8\\v5 --output_directory=C:\\Users\\niklas\\Desktop\\AI\\Projekte\\Face_Recognition_Ullsperger\\LogicAIFaceRecProject\\workspace\\models\\ssd_mobilenet_v2_fpnlite_640x640_coco17_tpu-8\\v5\\export\n"
     ]
    }
   ],
   "source": [
    "cmd_str = \"python {} --input_type=image_tensor --pipeline_config_path={} --trained_checkpoint_dir={} --output_directory={}\"\n",
    "script_path = os.path.join(OBJECT_DETECTION, \"exporter_main_v2.py\")\n",
    "export_path = os.path.join(MODEL, \"export\")\n",
    "cmd = cmd_str.format(script_path, PIPELINE_CONFIG_PATH, MODEL, export_path)\n",
    "print(cmd)"
   ]
  },
  {
   "cell_type": "code",
   "execution_count": 6,
   "metadata": {},
   "outputs": [
    {
     "name": "stderr",
     "output_type": "stream",
     "text": [
      "Traceback (most recent call last):\n",
      "  File \"C:\\Users\\niklas\\Desktop\\AI\\Projekte\\Face_Recognition_Ullsperger\\LogicAIFaceRecProject\\models\\research\\object_detection\\exporter_main_v2.py\", line 103, in <module>\n",
      "    import tensorflow.compat.v2 as tf\n",
      "ModuleNotFoundError: No module named 'tensorflow'\n"
     ]
    }
   ],
   "source": [
    "#run command in cli, it doesnt work running in colab, dont integrate the new line between python and the path"
   ]
  },
  {
   "cell_type": "code",
   "execution_count": 16,
   "metadata": {},
   "outputs": [
    {
     "name": "stdout",
     "output_type": "stream",
     "text": [
      "tensorflowjs_converter --input_format=tf_saved_model --output_node_names='detection_boxes,detection_classes,detection_features,detection_multiclass_scores,detection_scores,num_detections,raw_detecion_boxes,raw_detection_scores' output_format=tfjs_graph_model --signature_name=serving_default C:\\Users\\niklas\\Desktop\\AI\\Projekte\\Face_Recognition_Ullsperger\\LogicAIFaceRecProject\\workspace\\models\\ssd_mobilenet_v2_fpnlite_640x640_coco17_tpu-8\\v5\\export\\saved_model C:\\Users\\niklas\\Desktop\\AI\\Projekte\\Face_Recognition_Ullsperger\\LogicAIFaceRecProject\\workspace\\models\\ssd_mobilenet_v2_fpnlite_640x640_coco17_tpu-8\\v5\\tfjsexport\n"
     ]
    }
   ],
   "source": [
    "fields_to_export = \"detection_boxes,detection_classes,detection_features,detection_multiclass_scores,detection_scores,num_detections,raw_detecion_boxes,raw_detection_scores\"\n",
    "tfjs_cmd_str = \"tensorflowjs_converter --input_format=tf_saved_model --output_node_names='{}' \"\n",
    "tfjs_cmd_str += \"output_format=tfjs_graph_model --signature_name=serving_default {} {}\"\n",
    "model_export_src = os.path.join(MODEL, \"export\", \"saved_model\")\n",
    "model_export_dest = os.path.join(MODEL, \"tfjsexport\")\n",
    "tfjs_cmd = tfjs_cmd_str.format(fields_to_export, model_export_src, model_export_dest)\n",
    "print(tfjs_cmd)"
   ]
  },
  {
   "cell_type": "code",
   "execution_count": 9,
   "metadata": {},
   "outputs": [
    {
     "name": "stdout",
     "output_type": "stream",
     "text": [
      "^C\n"
     ]
    },
    {
     "name": "stderr",
     "output_type": "stream",
     "text": [
      "tensorflow-io 0.21.0 requires tensorflow-io-gcs-filesystem==0.21.0, which is not installed.\n",
      "tf-models-official 2.7.0 requires Cython, which is not installed.\n",
      "tf-models-official 2.7.0 requires gin-config, which is not installed.\n",
      "tf-models-official 2.7.0 requires google-api-python-client>=1.6.7, which is not installed.\n",
      "tf-models-official 2.7.0 requires kaggle>=1.3.9, which is not installed.\n",
      "tf-models-official 2.7.0 requires matplotlib, which is not installed.\n",
      "tf-models-official 2.7.0 requires oauth2client, which is not installed.\n",
      "tf-models-official 2.7.0 requires opencv-python-headless, which is not installed.\n",
      "tf-models-official 2.7.0 requires pandas>=0.22.0, which is not installed.\n",
      "tf-models-official 2.7.0 requires Pillow, which is not installed.\n",
      "tf-models-official 2.7.0 requires psutil>=5.4.3, which is not installed.\n",
      "tf-models-official 2.7.0 requires py-cpuinfo>=3.3.0, which is not installed.\n",
      "tf-models-official 2.7.0 requires pycocotools, which is not installed.\n",
      "tf-models-official 2.7.0 requires pyyaml>=5.1, which is not installed.\n",
      "tf-models-official 2.7.0 requires sacrebleu, which is not installed.\n",
      "tf-models-official 2.7.0 requires scipy>=0.19.1, which is not installed.\n",
      "tf-models-official 2.7.0 requires sentencepiece, which is not installed.\n",
      "tf-models-official 2.7.0 requires seqeval, which is not installed.\n",
      "tf-models-official 2.7.0 requires tensorflow-addons, which is not installed.\n",
      "tf-models-official 2.7.0 requires tensorflow-datasets, which is not installed.\n",
      "tf-models-official 2.7.0 requires tensorflow-model-optimization>=0.4.1, which is not installed.\n",
      "tf-models-official 2.7.0 requires tensorflow-text>=2.7.0, which is not installed.\n",
      "tf-models-official 2.7.0 requires tf-slim>=1.1.0, which is not installed.\n",
      "tf-models-official 2.7.0 has requirement tensorflow>=2.7.0, but you'll have tensorflow 2.6.2 which is incompatible.\n",
      "tensorflow 2.6.2 has requirement six~=1.15.0, but you'll have six 1.16.0 which is incompatible.\n",
      "You are using pip version 18.1, however version 21.3.1 is available.\n",
      "You should consider upgrading via the 'python -m pip install --upgrade pip' command.\n"
     ]
    },
    {
     "name": "stdout",
     "output_type": "stream",
     "text": [
      "Collecting tensorflowjs\n",
      "  Using cached https://files.pythonhosted.org/packages/3d/ff/e4e04a76046436b745d14bfb45b8cbe28603e69016c3ed3e1bbd73bb6941/tensorflowjs-3.12.0-py3-none-any.whl\n",
      "Collecting tensorflow-hub<0.13,>=0.7.0 (from tensorflowjs)\n",
      "  Using cached https://files.pythonhosted.org/packages/29/32/899878aa65cae5429f30449cdda61224e3f4319e6a155027bc3af4c3f07b/tensorflow_hub-0.12.0-py2.py3-none-any.whl\n",
      "Collecting tensorflow<3,>=2.1.0 (from tensorflowjs)\n",
      "  Using cached https://files.pythonhosted.org/packages/91/68/c9ce4bd8989333cbb59b42c15d7a43e414d495dba3a21664411564c77b6a/tensorflow-2.6.2-cp36-cp36m-win_amd64.whl\n",
      "Requirement already satisfied: six<2,>=1.12.0 in c:\\users\\niklas\\appdata\\roaming\\python\\python36\\site-packages (from tensorflowjs) (1.16.0)\n",
      "Requirement already satisfied: numpy>=1.12.0 in c:\\other\\python\\python_3_6_8\\lib\\site-packages (from tensorflow-hub<0.13,>=0.7.0->tensorflowjs) (1.19.5)\n",
      "Collecting protobuf>=3.8.0 (from tensorflow-hub<0.13,>=0.7.0->tensorflowjs)\n",
      "  Using cached https://files.pythonhosted.org/packages/38/f5/a8515ed44bfb3f184132d17ca3d1d350dddd9c23088c685160b892cb24dc/protobuf-3.19.1-cp36-cp36m-win_amd64.whl\n",
      "Collecting termcolor~=1.1.0 (from tensorflow<3,>=2.1.0->tensorflowjs)\n",
      "  Using cached https://files.pythonhosted.org/packages/8a/48/a76be51647d0eb9f10e2a4511bf3ffb8cc1e6b14e9e4fab46173aa79f981/termcolor-1.1.0.tar.gz\n",
      "Collecting flatbuffers~=1.12.0 (from tensorflow<3,>=2.1.0->tensorflowjs)\n",
      "  Using cached https://files.pythonhosted.org/packages/eb/26/712e578c5f14e26ae3314c39a1bdc4eb2ec2f4ddc89b708cf8e0a0d20423/flatbuffers-1.12-py2.py3-none-any.whl\n",
      "Collecting h5py~=3.1.0 (from tensorflow<3,>=2.1.0->tensorflowjs)\n",
      "  Using cached https://files.pythonhosted.org/packages/35/39/ceabe8fa912cb27ec9a0064fe01c1fde2f8b43e9f7e506207db0a0dcea0a/h5py-3.1.0-cp36-cp36m-win_amd64.whl\n",
      "Collecting tensorboard<2.7,>=2.6.0 (from tensorflow<3,>=2.1.0->tensorflowjs)\n",
      "  Using cached https://files.pythonhosted.org/packages/a0/20/a59a30c32330e4ff704faa4273b251db042d495e0c367bcdf045c6fe26e9/tensorboard-2.6.0-py3-none-any.whl\n",
      "Collecting clang~=5.0 (from tensorflow<3,>=2.1.0->tensorflowjs)\n",
      "  Using cached https://files.pythonhosted.org/packages/32/12/e17c1220f8ca587add2e076ebb28b6c4551fcc730e3c69a5f49679ad28e9/clang-5.0.tar.gz\n",
      "Collecting google-pasta~=0.2 (from tensorflow<3,>=2.1.0->tensorflowjs)\n",
      "  Using cached https://files.pythonhosted.org/packages/a3/de/c648ef6835192e6e2cc03f40b19eeda4382c49b5bafb43d88b931c4c74ac/google_pasta-0.2.0-py3-none-any.whl\n",
      "Collecting tensorflow-estimator<2.7,>=2.6.0 (from tensorflow<3,>=2.1.0->tensorflowjs)\n",
      "  Using cached https://files.pythonhosted.org/packages/c8/54/1b2f1e22a2670546cc02e4df1b80425edaee02133173bb91aa0f6d3d0293/tensorflow_estimator-2.6.0-py2.py3-none-any.whl\n",
      "Collecting keras-preprocessing~=1.1.2 (from tensorflow<3,>=2.1.0->tensorflowjs)\n",
      "  Using cached https://files.pythonhosted.org/packages/79/4c/7c3275a01e12ef9368a892926ab932b33bb13d55794881e3573482b378a7/Keras_Preprocessing-1.1.2-py2.py3-none-any.whl\n",
      "Collecting wrapt~=1.12.1 (from tensorflow<3,>=2.1.0->tensorflowjs)\n",
      "  Using cached https://files.pythonhosted.org/packages/82/f7/e43cefbe88c5fd371f4cf0cf5eb3feccd07515af9fd6cf7dbf1d1793a797/wrapt-1.12.1.tar.gz\n",
      "Requirement already satisfied: wheel~=0.35 in c:\\other\\python\\python_3_6_8\\lib\\site-packages (from tensorflow<3,>=2.1.0->tensorflowjs) (0.37.0)\n",
      "Collecting grpcio<2.0,>=1.37.0 (from tensorflow<3,>=2.1.0->tensorflowjs)\n",
      "  Downloading https://files.pythonhosted.org/packages/29/3b/266b10b39943d6bbbe1bcfcc146455d421d27e5513460e37a8a581682c0d/grpcio-1.43.0-cp36-cp36m-win_amd64.whl (3.3MB)\n",
      "Collecting astunparse~=1.6.3 (from tensorflow<3,>=2.1.0->tensorflowjs)\n",
      "  Using cached https://files.pythonhosted.org/packages/2b/03/13dde6512ad7b4557eb792fbcf0c653af6076b81e5941d36ec61f7ce6028/astunparse-1.6.3-py2.py3-none-any.whl\n",
      "Collecting gast==0.4.0 (from tensorflow<3,>=2.1.0->tensorflowjs)\n",
      "  Using cached https://files.pythonhosted.org/packages/b6/48/583c032b79ae5b3daa02225a675aeb673e58d2cb698e78510feceb11958c/gast-0.4.0-py3-none-any.whl\n",
      "Requirement already satisfied: keras<2.7,>=2.6.0 in c:\\other\\python\\python_3_6_8\\lib\\site-packages\\keras-2.6.0-py3.6.egg (from tensorflow<3,>=2.1.0->tensorflowjs) (2.6.0)\n",
      "Collecting opt-einsum~=3.3.0 (from tensorflow<3,>=2.1.0->tensorflowjs)\n",
      "  Using cached https://files.pythonhosted.org/packages/bc/19/404708a7e54ad2798907210462fd950c3442ea51acc8790f3da48d2bee8b/opt_einsum-3.3.0-py3-none-any.whl\n",
      "Collecting absl-py~=0.10 (from tensorflow<3,>=2.1.0->tensorflowjs)\n",
      "  Using cached https://files.pythonhosted.org/packages/97/75/f5e61fb67ecbe45c31035b17562464e11b91a2b8a351bae5ca0db2969e3b/absl_py-0.15.0-py3-none-any.whl\n",
      "Collecting typing-extensions~=3.7.4 (from tensorflow<3,>=2.1.0->tensorflowjs)\n",
      "  Using cached https://files.pythonhosted.org/packages/60/7a/e881b5abb54db0e6e671ab088d079c57ce54e8a01a3ca443f561ccadb37e/typing_extensions-3.7.4.3-py3-none-any.whl\n",
      "Collecting cached-property; python_version < \"3.8\" (from h5py~=3.1.0->tensorflow<3,>=2.1.0->tensorflowjs)\n",
      "  Using cached https://files.pythonhosted.org/packages/48/19/f2090f7dad41e225c7f2326e4cfe6fff49e57dedb5b53636c9551f86b069/cached_property-1.5.2-py2.py3-none-any.whl\n",
      "Collecting tensorboard-data-server<0.7.0,>=0.6.0 (from tensorboard<2.7,>=2.6.0->tensorflow<3,>=2.1.0->tensorflowjs)\n",
      "  Using cached https://files.pythonhosted.org/packages/74/69/5747a957f95e2e1d252ca41476ae40ce79d70d38151d2e494feb7722860c/tensorboard_data_server-0.6.1-py3-none-any.whl\n",
      "Collecting requests<3,>=2.21.0 (from tensorboard<2.7,>=2.6.0->tensorflow<3,>=2.1.0->tensorflowjs)\n",
      "  Using cached https://files.pythonhosted.org/packages/2d/61/08076519c80041bc0ffa1a8af0cbd3bf3e2b62af10435d269a9d0f40564d/requests-2.27.1-py2.py3-none-any.whl\n",
      "Collecting werkzeug>=0.11.15 (from tensorboard<2.7,>=2.6.0->tensorflow<3,>=2.1.0->tensorflowjs)\n",
      "  Using cached https://files.pythonhosted.org/packages/1e/73/51137805d1b8d97367a8a77cae4a792af14bb7ce58fbd071af294c740cf0/Werkzeug-2.0.2-py3-none-any.whl\n",
      "Collecting google-auth<2,>=1.6.3 (from tensorboard<2.7,>=2.6.0->tensorflow<3,>=2.1.0->tensorflowjs)\n",
      "  Using cached https://files.pythonhosted.org/packages/fb/7a/1b3eb54caee1b8c73c2c3645f78a382eca4805a301a30c64a078e736e446/google_auth-1.35.0-py2.py3-none-any.whl\n",
      "Collecting tensorboard-plugin-wit>=1.6.0 (from tensorboard<2.7,>=2.6.0->tensorflow<3,>=2.1.0->tensorflowjs)\n",
      "  Using cached https://files.pythonhosted.org/packages/e0/68/e8ecfac5dd594b676c23a7f07ea34c197d7d69b3313afdf8ac1b0a9905a2/tensorboard_plugin_wit-1.8.1-py3-none-any.whl\n",
      "Collecting markdown>=2.6.8 (from tensorboard<2.7,>=2.6.0->tensorflow<3,>=2.1.0->tensorflowjs)\n",
      "  Using cached https://files.pythonhosted.org/packages/9f/d4/2c7f83915d437736996b2674300c6c4b578a6f897f34e40f5c04db146719/Markdown-3.3.6-py3-none-any.whl\n",
      "Collecting google-auth-oauthlib<0.5,>=0.4.1 (from tensorboard<2.7,>=2.6.0->tensorflow<3,>=2.1.0->tensorflowjs)\n",
      "  Using cached https://files.pythonhosted.org/packages/b1/0e/0636cc1448a7abc444fb1b3a63655e294e0d2d49092dc3de05241be6d43c/google_auth_oauthlib-0.4.6-py2.py3-none-any.whl\n",
      "Requirement already satisfied: setuptools>=41.0.0 in c:\\other\\python\\python_3_6_8\\lib\\site-packages (from tensorboard<2.7,>=2.6.0->tensorflow<3,>=2.1.0->tensorflowjs) (59.2.0)\n",
      "Collecting idna<4,>=2.5; python_version >= \"3\" (from requests<3,>=2.21.0->tensorboard<2.7,>=2.6.0->tensorflow<3,>=2.1.0->tensorflowjs)\n",
      "  Using cached https://files.pythonhosted.org/packages/04/a2/d918dcd22354d8958fe113e1a3630137e0fc8b44859ade3063982eacd2a4/idna-3.3-py3-none-any.whl\n",
      "Collecting certifi>=2017.4.17 (from requests<3,>=2.21.0->tensorboard<2.7,>=2.6.0->tensorflow<3,>=2.1.0->tensorflowjs)\n",
      "  Using cached https://files.pythonhosted.org/packages/37/45/946c02767aabb873146011e665728b680884cd8fe70dde973c640e45b775/certifi-2021.10.8-py2.py3-none-any.whl\n",
      "Collecting charset-normalizer~=2.0.0; python_version >= \"3\" (from requests<3,>=2.21.0->tensorboard<2.7,>=2.6.0->tensorflow<3,>=2.1.0->tensorflowjs)\n",
      "  Using cached https://files.pythonhosted.org/packages/84/3e/1037abe6498e65d645ce7a22d3402605d49a3b2c7f20c3abb027760da4f0/charset_normalizer-2.0.10-py3-none-any.whl\n",
      "Collecting urllib3<1.27,>=1.21.1 (from requests<3,>=2.21.0->tensorboard<2.7,>=2.6.0->tensorflow<3,>=2.1.0->tensorflowjs)\n",
      "  Using cached https://files.pythonhosted.org/packages/4e/b8/f5a25b22e803f0578e668daa33ba3701bb37858ec80e08a150bd7d2cf1b1/urllib3-1.26.8-py2.py3-none-any.whl\n",
      "Collecting dataclasses; python_version < \"3.7\" (from werkzeug>=0.11.15->tensorboard<2.7,>=2.6.0->tensorflow<3,>=2.1.0->tensorflowjs)\n",
      "  Using cached https://files.pythonhosted.org/packages/fe/ca/75fac5856ab5cfa51bbbcefa250182e50441074fdc3f803f6e76451fab43/dataclasses-0.8-py3-none-any.whl\n",
      "Collecting cachetools<5.0,>=2.0.0 (from google-auth<2,>=1.6.3->tensorboard<2.7,>=2.6.0->tensorflow<3,>=2.1.0->tensorflowjs)\n",
      "  Using cached https://files.pythonhosted.org/packages/ea/c1/4740af52db75e6dbdd57fc7e9478439815bbac549c1c05881be27d19a17d/cachetools-4.2.4-py3-none-any.whl\n",
      "Collecting rsa<5,>=3.1.4; python_version >= \"3.6\" (from google-auth<2,>=1.6.3->tensorboard<2.7,>=2.6.0->tensorflow<3,>=2.1.0->tensorflowjs)\n",
      "  Using cached https://files.pythonhosted.org/packages/30/ab/8fd9e88e6fa5ec41afca995938bbefb72195278e0cfc5bd76a4f29b23fb2/rsa-4.8-py3-none-any.whl\n",
      "Collecting pyasn1-modules>=0.2.1 (from google-auth<2,>=1.6.3->tensorboard<2.7,>=2.6.0->tensorflow<3,>=2.1.0->tensorflowjs)\n",
      "  Using cached https://files.pythonhosted.org/packages/95/de/214830a981892a3e286c3794f41ae67a4495df1108c3da8a9f62159b9a9d/pyasn1_modules-0.2.8-py2.py3-none-any.whl\n",
      "Requirement already satisfied: importlib-metadata>=4.4; python_version < \"3.10\" in c:\\other\\python\\python_3_6_8\\lib\\site-packages (from markdown>=2.6.8->tensorboard<2.7,>=2.6.0->tensorflow<3,>=2.1.0->tensorflowjs) (4.8.2)\n",
      "Collecting requests-oauthlib>=0.7.0 (from google-auth-oauthlib<0.5,>=0.4.1->tensorboard<2.7,>=2.6.0->tensorflow<3,>=2.1.0->tensorflowjs)\n",
      "  Using cached https://files.pythonhosted.org/packages/a3/12/b92740d845ab62ea4edf04d2f4164d82532b5a0b03836d4d4e71c6f3d379/requests_oauthlib-1.3.0-py2.py3-none-any.whl\n",
      "Collecting pyasn1>=0.1.3 (from rsa<5,>=3.1.4; python_version >= \"3.6\"->google-auth<2,>=1.6.3->tensorboard<2.7,>=2.6.0->tensorflow<3,>=2.1.0->tensorflowjs)\n",
      "  Using cached https://files.pythonhosted.org/packages/62/1e/a94a8d635fa3ce4cfc7f506003548d0a2447ae76fd5ca53932970fe3053f/pyasn1-0.4.8-py2.py3-none-any.whl\n",
      "Requirement already satisfied: zipp>=0.5 in c:\\other\\python\\python_3_6_8\\lib\\site-packages (from importlib-metadata>=4.4; python_version < \"3.10\"->markdown>=2.6.8->tensorboard<2.7,>=2.6.0->tensorflow<3,>=2.1.0->tensorflowjs) (3.6.0)\n",
      "Collecting oauthlib>=3.0.0 (from requests-oauthlib>=0.7.0->google-auth-oauthlib<0.5,>=0.4.1->tensorboard<2.7,>=2.6.0->tensorflow<3,>=2.1.0->tensorflowjs)\n",
      "  Using cached https://files.pythonhosted.org/packages/e8/5d/9dd1c29e5a786525f6342f6c1d812ed2e37edc653ad297048c1668988053/oauthlib-3.1.1-py2.py3-none-any.whl\n",
      "Building wheels for collected packages: termcolor, clang, wrapt\n",
      "  Running setup.py bdist_wheel for termcolor: started\n",
      "  Running setup.py bdist_wheel for termcolor: finished with status 'done'\n",
      "  Stored in directory: C:\\Users\\niklas\\AppData\\Local\\pip\\Cache\\wheels\\7c\\06\\54\\bc84598ba1daf8f970247f550b175aaaee85f68b4b0c5ab2c6\n",
      "  Running setup.py bdist_wheel for clang: started\n",
      "  Running setup.py bdist_wheel for clang: finished with status 'done'\n",
      "  Stored in directory: C:\\Users\\niklas\\AppData\\Local\\pip\\Cache\\wheels\\a1\\d0\\fb\\f47e814ad88e0741b0ff6fc57bc4044f61c44cb707a68de6b3\n",
      "  Running setup.py bdist_wheel for wrapt: started\n",
      "  Running setup.py bdist_wheel for wrapt: finished with status 'done'\n",
      "  Stored in directory: C:\\Users\\niklas\\AppData\\Local\\pip\\Cache\\wheels\\b1\\c2\\ed\\d62208260edbd3fa7156545c00ef966f45f2063d0a84f8208a\n",
      "Successfully built termcolor clang wrapt\n",
      "Installing collected packages: protobuf, tensorflow-hub, termcolor, flatbuffers, cached-property, h5py, tensorboard-data-server, idna, certifi, charset-normalizer, urllib3, requests, dataclasses, werkzeug, cachetools, pyasn1, rsa, pyasn1-modules, google-auth, tensorboard-plugin-wit, grpcio, markdown, absl-py, oauthlib, requests-oauthlib, google-auth-oauthlib, tensorboard, clang, google-pasta, tensorflow-estimator, keras-preprocessing, wrapt, astunparse, gast, opt-einsum, typing-extensions, tensorflow, tensorflowjs\n",
      "  Found existing installation: absl-py 1.0.0\n",
      "    Uninstalling absl-py-1.0.0:\n",
      "      Successfully uninstalled absl-py-1.0.0\n",
      "  Found existing installation: typing-extensions 4.0.0\n",
      "    Uninstalling typing-extensions-4.0.0:\n",
      "      Successfully uninstalled typing-extensions-4.0.0\n",
      "Successfully installed absl-py-0.15.0 astunparse-1.6.3 cached-property-1.5.2 cachetools-4.2.4 certifi-2021.10.8 charset-normalizer-2.0.10 clang-5.0 dataclasses-0.8 flatbuffers-1.12 gast-0.4.0 google-auth-1.35.0 google-auth-oauthlib-0.4.6 google-pasta-0.2.0 grpcio-1.43.0 h5py-3.1.0 idna-3.3 keras-preprocessing-1.1.2 markdown-3.3.6 oauthlib-3.1.1 opt-einsum-3.3.0 protobuf-3.19.1 pyasn1-0.4.8 pyasn1-modules-0.2.8 requests-2.27.1 requests-oauthlib-1.3.0 rsa-4.8 tensorboard-2.6.0 tensorboard-data-server-0.6.1 tensorboard-plugin-wit-1.8.1 tensorflow-2.6.2 tensorflow-estimator-2.6.0 tensorflow-hub-0.12.0 tensorflowjs-3.12.0 termcolor-1.1.0 typing-extensions-3.7.4.3 urllib3-1.26.8 werkzeug-2.0.2 wrapt-1.12.1\n"
     ]
    }
   ],
   "source": [
    "!pip install tensorflowjs"
   ]
  },
  {
   "cell_type": "code",
   "execution_count": 17,
   "metadata": {},
   "outputs": [
    {
     "name": "stderr",
     "output_type": "stream",
     "text": [
      "usage: TensorFlow.js model converters. [-h]\n",
      "                                       [--input_format {keras,tfjs_layers_model,tf_frozen_model,keras_saved_model,tf_saved_model,tf_hub}]\n",
      "                                       [--output_format {tfjs_layers_model,keras,tfjs_graph_model,keras_saved_model}]\n",
      "                                       [--signature_name SIGNATURE_NAME]\n",
      "                                       [--saved_model_tags SAVED_MODEL_TAGS]\n",
      "                                       [--quantize_float16 [QUANTIZE_FLOAT16]]\n",
      "                                       [--quantize_uint8 [QUANTIZE_UINT8]]\n",
      "                                       [--quantize_uint16 [QUANTIZE_UINT16]]\n",
      "                                       [--quantization_bytes {1,2}]\n",
      "                                       [--split_weights_by_layer] [--version]\n",
      "                                       [--skip_op_check]\n",
      "                                       [--strip_debug_ops STRIP_DEBUG_OPS]\n",
      "                                       [--weight_shard_size_bytes WEIGHT_SHARD_SIZE_BYTES]\n",
      "                                       [--output_node_names OUTPUT_NODE_NAMES]\n",
      "                                       [--control_flow_v2 CONTROL_FLOW_V2]\n",
      "                                       [--experiments EXPERIMENTS]\n",
      "                                       [--metadata METADATA]\n",
      "                                       [input_path] [output_path]\n",
      "TensorFlow.js model converters.: error: unrecognized arguments: C:\\Users\\niklas\\Desktop\\AI\\Projekte\\Face_Recognition_Ullsperger\\LogicAIFaceRecProject\\workspace\\models\\ssd_mobilenet_v2_fpnlite_640x640_coco17_tpu-8\\v5\\export\\saved_model C:\\Users\\niklas\\Desktop\\AI\\Projekte\\Face_Recognition_Ullsperger\\LogicAIFaceRecProject\\workspace\\models\\ssd_mobilenet_v2_fpnlite_640x640_coco17_tpu-8\\v5\\tfjsexport\n"
     ]
    }
   ],
   "source": [
    "!{tfjs_cmd}"
   ]
  }
 ],
 "metadata": {
  "interpreter": {
   "hash": "3a5f1cd1768ef7a3f013240a617fcc24e8f9035ce2970d61562f5e08ab9341d5"
  },
  "kernelspec": {
   "display_name": "Python 3.8.10 64-bit ('tf': venv)",
   "language": "python",
   "name": "python3"
  },
  "language_info": {
   "codemirror_mode": {
    "name": "ipython",
    "version": 3
   },
   "file_extension": ".py",
   "mimetype": "text/x-python",
   "name": "python",
   "nbconvert_exporter": "python",
   "pygments_lexer": "ipython3",
   "version": "3.8.10"
  },
  "orig_nbformat": 4
 },
 "nbformat": 4,
 "nbformat_minor": 2
}
