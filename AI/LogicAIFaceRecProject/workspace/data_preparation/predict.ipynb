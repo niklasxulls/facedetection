{
 "cells": [
  {
   "cell_type": "code",
   "execution_count": 1,
   "metadata": {},
   "outputs": [],
   "source": [
    "import os, sys\n",
    "import tensorflow as tf\n",
    "os.chdir('..')\n",
    "join = os.path.join(os.getcwd(), '_global')\n",
    "sys.path.extend([join])\n",
    "from _global.config import *\n",
    "from _global.funcs import *\n",
    "import matplotlib.pyplot as plt\n",
    "import matplotlib.image as mpimg\n",
    "import numpy as np\n",
    "from tensorflow.keras import *\n",
    "import albumentations as A\n",
    "from PIL import Image\n",
    "import cv2\n",
    "os.environ['TF_FORCE_GPU_ALLOW_GROWTH'] = 'true'"
   ]
  },
  {
   "cell_type": "code",
   "execution_count": 2,
   "metadata": {},
   "outputs": [],
   "source": [
    "def predict_for_image(bytes, model):\n",
    "    image_bytes, _, img_shape = decode_img(bytes, resize=True)\n",
    "    img_tensor = tf.cast(image_bytes, tf.uint8)\n",
    "    img_tensor_expanded = tf.expand_dims(img_tensor, axis=0)\n",
    "\n",
    "    bbxs = model.predict(img_tensor_expanded)\n",
    "    bbxs = bbxs[0][0][0]\n",
    "    print(bbxs[:20])\n",
    "\n",
    "    threshold = 1\n",
    "    # bbxs = [bbxs[x:x+4] for x in range(0, len(bbxs), 4) if bbxs[x] != 0 and bbxs[x+1] != 0]\n",
    "\n",
    "    bbxs_real = []\n",
    "    c = 0\n",
    "    prev_coordinates = [sys.maxsize, sys.maxsize, sys.maxsize, sys.maxsize]\n",
    "    for _ in range(MAX_BBXS * 4):\n",
    "        c+=1\n",
    "        if c % 4 != 0:\n",
    "            continue\n",
    "        curr = c-1\n",
    "        if bbxs[curr] < 0 or bbxs[curr-1] <0 or bbxs[curr-2]<0 or bbxs[curr-3]<0:\n",
    "            continue\n",
    "        \n",
    "        if (abs(bbxs[curr-3] - prev_coordinates[0]) < threshold or\n",
    "            abs(bbxs[curr-2] - prev_coordinates[1]) < threshold):\n",
    "            continue\n",
    "\n",
    "        temp = [bbxs[curr-3], bbxs[curr-2], bbxs[curr-1], bbxs[curr]] \n",
    "        bbxs_real.append(temp)\n",
    "        prev_coordinates = temp[:]\n",
    "\n",
    "    return bbxs_real, img_tensor, img_shape\n",
    "    # img = mpimg.imread(path)\n",
    "    # plt.imshow(img)\n",
    "def predict_for_image_with_path(path, model):\n",
    "    with tf.io.gfile.GFile(path ,'rb') as file:\n",
    "        return predict_for_image(file.read(), model)"
   ]
  },
  {
   "cell_type": "code",
   "execution_count": 3,
   "metadata": {},
   "outputs": [],
   "source": [
    "def draw_bbx(img, bbx, color=(255, 0, 0), thickness=1):\n",
    "    p1 = int(bbx[0]), int(bbx[1])\n",
    "    p2 = int(bbx[0] + bbx[2]), int(bbx[1] + bbx[3])\n",
    "    \n",
    "    cv2.rectangle(img, p1, p2,color, thickness)\n",
    "\n",
    "def draw_bbxs_on_image(img_tensor, bbxs, img_shape=(*IMAGE_SIZES, 3), bbxs_scaled_down=True, window_name=\"default\"):\n",
    "    if not bbxs_scaled_down:\n",
    "        x_ratio = img_shape / IMAGE_SIZES[0]\n",
    "        y_ratio = img_shape / IMAGE_SIZES[1]\n",
    "\n",
    "        for bbx in bbxs:\n",
    "\n",
    "            bbx[0] *= x_ratio\n",
    "            bbx[2] *= x_ratio\n",
    "\n",
    "            bbx[1] *= y_ratio\n",
    "            bbx[3] *= y_ratio\n",
    "\n",
    "\n",
    "    img = img_tensor.numpy()\n",
    "\n",
    "    for bbx in bbxs:\n",
    "        draw_bbx(img, bbx)\n",
    "\n",
    "    cv2.imshow(window_name, img)\n",
    "    cv2.moveWindow(window_name, -1920, 0)\n",
    "    cv2.setWindowProperty(window_name, cv2.WND_PROP_TOPMOST, 1)\n",
    "\n",
    "    while cv2.getWindowProperty(window_name, 0) >= 0:\n",
    "        k = cv2.waitKey(0)\n",
    "        if k == 27:\n",
    "            break\n",
    "        continue\n",
    "    \n",
    "    cv2.destroyAllWindows()"
   ]
  },
  {
   "cell_type": "code",
   "execution_count": 4,
   "metadata": {},
   "outputs": [],
   "source": [
    "def draw_bbxs_from_tfrecord(tfrecord_path, record_number):\n",
    "    if not isinstance(tfrecord_path, list):\n",
    "        tfrecord_path = [tfrecord_path]\n",
    "    \n",
    "    dataset = tf.data.TFRecordDataset(tfrecord_path)\n",
    "\n",
    "    for i in range(len(dataset)):\n",
    "        if i +1 != record_number:\n",
    "            continue\n",
    "        \n",
    "        curr = dataset[i][0]\n",
    "        image, bbxs = parse_function(curr)\n",
    "\n",
    "        draw_bbxs_on_image(image, bbxs, 'from_tfrecord')"
   ]
  },
  {
   "cell_type": "code",
   "execution_count": 5,
   "metadata": {},
   "outputs": [],
   "source": [
    "# losses.custom_loss = loss_fn_practical\n",
    "model = tf.keras.models.load_model(OUTPUT_MODEL, custom_objects={'loss_fn_practical': loss_fn_practical})"
   ]
  },
  {
   "cell_type": "code",
   "execution_count": 6,
   "metadata": {},
   "outputs": [],
   "source": [
    "# [67.77223   47.06517   16.923975  25.885923  50.304874  35.963966\n",
    "#   6.2854676 10.204706  41.274918  30.414097   4.0224295  7.105852\n",
    "#  37.16802   27.614225   3.1189811  5.787781  33.005714  24.588493\n",
    "#   2.2111108  4.368665 ]\n",
    "\n",
    "# [71.112305  49.371758  17.722971  27.159712  52.783493  37.700424\n",
    "#   6.570285  10.685776  43.320473  31.924595   4.2354403  7.480593\n",
    "#  38.9796    28.967466   3.2910812  6.0731983 34.608833  25.760878\n",
    "#   2.3060017  4.58374  ]"
   ]
  },
  {
   "cell_type": "code",
   "execution_count": 7,
   "metadata": {},
   "outputs": [
    {
     "name": "stdout",
     "output_type": "stream",
     "text": [
      "[77.57479   49.142696  12.00176   19.49504   42.44342    0.\n",
      "  4.2657413  7.570258   0.         0.         0.         0.\n",
      "  0.         0.         0.         0.         0.         0.\n",
      "  0.         0.       ]\n"
     ]
    }
   ],
   "source": [
    "path = os.path.join(TEST_IMAGES, \"49--Greeting\\\\49_Greeting_peoplegreeting_49_2.jpg\")\n",
    "path = os.path.join(TRAIN_IMAGES, \"1--Handshaking\\\\1_Handshaking_Handshaking_1_82.jpg\")\n",
    "bbxs, img_tensor, shape = predict_for_image_with_path(path, model)\n",
    "draw_bbxs_on_image(img_tensor, bbxs)"
   ]
  }
 ],
 "metadata": {
  "interpreter": {
   "hash": "24c78f2902c3eaca8402099206b187d2e0c79b256a5a127d981db2350636b3f9"
  },
  "kernelspec": {
   "display_name": "Python 3.8.10 64-bit ('tf': venv)",
   "language": "python",
   "name": "python3"
  },
  "language_info": {
   "codemirror_mode": {
    "name": "ipython",
    "version": 3
   },
   "file_extension": ".py",
   "mimetype": "text/x-python",
   "name": "python",
   "nbconvert_exporter": "python",
   "pygments_lexer": "ipython3",
   "version": "3.8.10"
  },
  "orig_nbformat": 4
 },
 "nbformat": 4,
 "nbformat_minor": 2
}
