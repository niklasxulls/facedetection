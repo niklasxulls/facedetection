{
 "cells": [
  {
   "cell_type": "code",
   "execution_count": 1,
   "metadata": {},
   "outputs": [],
   "source": [
    "import pandas as pd\n",
    "import os\n",
    "import matplotlib.pyplot as plt\n",
    "import matplotlib.image as mpimg\n",
    "import tensorflow as tf\n",
    "import tensorflow_addons as tfa\n",
    "from tensorflow.keras import *\n",
    "import numpy as np\n",
    "import copy\n",
    "from functools import partial\n",
    "import sys, os\n",
    "os.chdir('..')\n",
    "join = os.path.join(os.getcwd(), '_global')\n",
    "sys.path.extend([join])\n",
    "from _global.config import *\n",
    "from _global.funcs import *\n",
    "sys.path.extend([RESEARCH])\n",
    "from object_detection.utils import config_util\n",
    "from object_detection.protos import pipeline_pb2\n",
    "from object_detection.utils import label_map_util\n",
    "from object_detection.utils import visualization_utils as viz_utils\n",
    "from object_detection.builders import model_builder\n",
    "from google.protobuf import text_format\n",
    "from IPython import get_ipython\n",
    "tf.compat.v1.logging.set_verbosity(tf.compat.v1.logging.INFO)\n",
    "ipython = get_ipython()"
   ]
  },
  {
   "cell_type": "code",
   "execution_count": 2,
   "metadata": {},
   "outputs": [],
   "source": [
    "def filename_wo_extension(name):\n",
    "    filename = name.split(\"/\")\n",
    "    filename = filename[len(filename)-1]\n",
    "    filename = filename.split(\".\")\n",
    "    return filename[0]\n",
    "\n",
    "def download_and_install_model():\n",
    "    if not os.path.exists(MODELS_PATH):\n",
    "        os.mkdir(MODELS_PATH)\n",
    "    \n",
    "    if not os.path.exists(PRETRAINED_MODELS_PATH):\n",
    "        os.mkdir(PRETRAINED_MODELS_PATH)\n",
    "\n",
    "    model_wo_version = os.path.join(MODELS_PATH, PRETRAINED_MODEL_NAME)\n",
    "    \n",
    "    if not os.path.exists(model_wo_version):\n",
    "        os.mkdir(model_wo_version)\n",
    "        extractTar(PRETRAINED_MODEL_DOWNLOAD, PRETRAINED_MODELS_PATH, PRETRAINED_MODEL_NAME)\n",
    "\n",
    "    if not os.path.exists(MODEL):\n",
    "        os.mkdir(MODEL)\n",
    "\n",
    "    os.chdir(MODEL)\n",
    "\n",
    "    exec(ipython.transform_cell('!copy {} {}'.format(os.path.join(PRETRAINED_MODELS_PATH, PRETRAINED_MODEL_NAME, \"pipeline.config\"), MODEL)))\n",
    "    \n",
    "    os.chdir(INSTALLATION_PATH)\n",
    "\n",
    "    return MODEL"
   ]
  },
  {
   "cell_type": "code",
   "execution_count": 3,
   "metadata": {},
   "outputs": [
    {
     "name": "stdout",
     "output_type": "stream",
     "text": [
      "        1 Datei(en) kopiert.\n"
     ]
    }
   ],
   "source": [
    "PIPELINE_CONFIG_PATH = os.path.join(download_and_install_model(), \"pipeline.config\")"
   ]
  },
  {
   "cell_type": "code",
   "execution_count": 4,
   "metadata": {},
   "outputs": [],
   "source": [
    "config = config_util.get_configs_from_pipeline_file(PIPELINE_CONFIG_PATH)"
   ]
  },
  {
   "cell_type": "code",
   "execution_count": 5,
   "metadata": {},
   "outputs": [],
   "source": [
    "pipeline_config = pipeline_pb2.TrainEvalPipelineConfig()"
   ]
  },
  {
   "cell_type": "code",
   "execution_count": 6,
   "metadata": {},
   "outputs": [],
   "source": [
    "pipeline_config = pipeline_pb2.TrainEvalPipelineConfig()\n",
    "with tf.io.gfile.GFile(PIPELINE_CONFIG_PATH, \"r\") as f:                                                                                                                                                                                                                     \n",
    "    proto_str = f.read()                                                                                                                                                                                                                                          \n",
    "    text_format.Merge(proto_str, pipeline_config)  "
   ]
  },
  {
   "cell_type": "code",
   "execution_count": 7,
   "metadata": {},
   "outputs": [],
   "source": [
    "pipeline_config.model.ssd.num_classes = 1\n",
    "pipeline_config.train_config.batch_size = 8\n",
    "pipeline_config.train_config.fine_tune_checkpoint = os.path.join(PRETRAINED_MODELS_PATH, PRETRAINED_MODEL_NAME, 'checkpoint', 'ckpt-0')\n",
    "pipeline_config.train_config.fine_tune_checkpoint_type = \"detection\"\n",
    "pipeline_config.train_input_reader.label_map_path= LABEL_MAP_PATH\n",
    "pipeline_config.train_input_reader.tf_record_input_reader.input_path[:] = [OUTPUT_TRAIN_TFRECORD]\n",
    "pipeline_config.eval_input_reader[0].label_map_path = LABEL_MAP_PATH\n",
    "pipeline_config.eval_input_reader[0].tf_record_input_reader.input_path[:] = [OUTPUT_VALIDATION_TFRECORD]"
   ]
  },
  {
   "cell_type": "code",
   "execution_count": 8,
   "metadata": {},
   "outputs": [],
   "source": [
    "config_text = text_format.MessageToString(pipeline_config)                                                                                                                                                                                                        \n",
    "with tf.io.gfile.GFile(PIPELINE_CONFIG_PATH, \"wb\") as f:                                                                                                                                                                                                                     \n",
    "    f.write(config_text)  "
   ]
  },
  {
   "cell_type": "code",
   "execution_count": 9,
   "metadata": {},
   "outputs": [
    {
     "data": {
      "text/plain": [
       "'python C:\\\\Users\\\\niklas\\\\Desktop\\\\Face_Recognition_Ullsperger\\\\LogicAIFaceRecProject\\\\workspace\\\\model_main_tf2.py --logtostderr --train_dir=C:\\\\Users\\\\niklas\\\\Desktop\\\\Face_Recognition_Ullsperger\\\\LogicAIFaceRecProject\\\\workspace\\\\models\\\\ssd_mobilenet_v2_fpnlite_640x640_coco17_tpu-8\\\\v5 --pipeline_config_path=C:\\\\Users\\\\niklas\\\\Desktop\\\\Face_Recognition_Ullsperger\\\\LogicAIFaceRecProject\\\\workspace\\\\models\\\\ssd_mobilenet_v2_fpnlite_640x640_coco17_tpu-8\\\\v5\\\\pipeline.config --num_train_steps=10000'"
      ]
     },
     "execution_count": 9,
     "metadata": {},
     "output_type": "execute_result"
    }
   ],
   "source": [
    "cmd_str = \"python {} --model_dir={} --pipeline_config_path={} --num_train_steps=2000\"\n",
    "cmd_str = \"python {} --logtostderr --train_dir={} --pipeline_config_path={} --num_train_steps=10000\"\n",
    "train_command = cmd_str.format(TRAINING_SCRIPT, MODEL, PIPELINE_CONFIG_PATH)\n",
    "train_command"
   ]
  },
  {
   "cell_type": "code",
   "execution_count": null,
   "metadata": {},
   "outputs": [],
   "source": [
    "!{train_command}"
   ]
  },
  {
   "cell_type": "code",
   "execution_count": null,
   "metadata": {},
   "outputs": [],
   "source": [
    " \n",
    "eval_cmd_str = \"python {} --pipeline_config_path={} --model_dir={} --checkpoint_dir={}\"\n",
    "eval_cmd = eval_cmd_str.format(TRAINING_SCRIPT, PIPELINE_CONFIG_PATH, MODEL, \n",
    "os.path.join(MODEL, 'ckpt-3'))\n",
    "eval_cmd"
   ]
  },
  {
   "cell_type": "code",
   "execution_count": null,
   "metadata": {},
   "outputs": [],
   "source": [
    "!{eval_cmd}"
   ]
  },
  {
   "cell_type": "code",
   "execution_count": null,
   "metadata": {},
   "outputs": [],
   "source": [
    "for example in tf.compat.v1.python_io.tf_record_iterator(OUTPUT_TRAIN_TFRECORD):\n",
    "    print(tf.train.Example.FromString(example))"
   ]
  }
 ],
 "metadata": {
  "interpreter": {
   "hash": "24c78f2902c3eaca8402099206b187d2e0c79b256a5a127d981db2350636b3f9"
  },
  "kernelspec": {
   "display_name": "Python 3.8.10 64-bit ('tf': venv)",
   "language": "python",
   "name": "python3"
  },
  "language_info": {
   "codemirror_mode": {
    "name": "ipython",
    "version": 3
   },
   "file_extension": ".py",
   "mimetype": "text/x-python",
   "name": "python",
   "nbconvert_exporter": "python",
   "pygments_lexer": "ipython3",
   "version": "3.8.10"
  },
  "orig_nbformat": 4
 },
 "nbformat": 4,
 "nbformat_minor": 2
}
