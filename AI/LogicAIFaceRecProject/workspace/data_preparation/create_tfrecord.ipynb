{
 "cells": [
  {
   "cell_type": "code",
   "execution_count": 1,
   "metadata": {},
   "outputs": [],
   "source": [
    "#Feature: eine Liste bestehnd aus bytes, floates oder ints\n",
    "#FeatureList: eine Liste die aus Features besteht -> Nested List\n",
    "#tf.train.Example: Ein Datensatz aus einem DataSet. Ist eigentlich ein Dictionary aus strings und Features -> Column, Value\n",
    "#tf.train.SequenceExample: Kann auch FeatureLists enthalten, sprich nested lists\n",
    "\n",
    "#src: https://stackoverflow.com/questions/45634450/what-are-the-advantages-of-using-tf-train-sequenceexample-over-tf-train-example"
   ]
  },
  {
   "cell_type": "code",
   "execution_count": 2,
   "metadata": {},
   "outputs": [],
   "source": [
    "import pandas as pd\n",
    "import os, sys\n",
    "import matplotlib.pyplot as plt\n",
    "import matplotlib.image as mpimg\n",
    "import tensorflow as tf\n",
    "from tensorflow.keras import *\n",
    "import numpy as np\n",
    "from functools import partial\n",
    "os.chdir('..')\n",
    "join = os.path.join(os.getcwd(), '_global')\n",
    "sys.path.extend([join])\n",
    "from _global.config import *\n",
    "from _global.funcs import *"
   ]
  },
  {
   "cell_type": "code",
   "execution_count": 3,
   "metadata": {},
   "outputs": [],
   "source": [
    "def _bytes_feature(value):\n",
    "    # EagerTensor ist intern, daher muss er berechnet werden\n",
    "    if isinstance(value, type(tf.constant(0))):\n",
    "        value = value.numpy() \n",
    "    return tf.train.Feature(bytes_list=tf.train.BytesList(value=[value]))"
   ]
  },
  {
   "cell_type": "code",
   "execution_count": 4,
   "metadata": {},
   "outputs": [],
   "source": [
    "def create_feature(imgdata_path, curr_filename, curr_bounding_boxes):\n",
    "        img_path =os.path.join(imgdata_path, curr_filename)\n",
    "\n",
    "        face_count = 0\n",
    "        bbxArr = []\n",
    "        for i in curr_bounding_boxes:\n",
    "            bbxArr.append([*i[:4]])\n",
    "\n",
    "        with tf.io.gfile.GFile(img_path, 'rb') as fid:\n",
    "            img_bytes = fid.read()\n",
    "\n",
    "            img_bytes, new_bbxs, img_shape = decode_img(img_bytes, bbxs=bbxArr, resize=True)\n",
    "            img_bytes = tf.io.encode_jpeg(tf.cast(img_bytes, tf.uint8))\n",
    "            face_count = len(new_bbxs)\n",
    "\n",
    "        new_bbxs = [item for i in new_bbxs for item in i]\n",
    "\n",
    "        for _ in range(MAX_BBXS * 4 - len(new_bbxs)):\n",
    "            new_bbxs.append(0)\n",
    "\n",
    "        return tf.train.Example(\n",
    "            features = tf.train.Features(feature = {\n",
    "                'filename': tf.train.Feature(bytes_list = tf.train.BytesList(value = [bytes(curr_filename, 'utf-8') ])),\n",
    "                'shape': tf.train.Feature(int64_list = tf.train.Int64List(value = [img_shape[0], img_shape[1], img_shape[2]])),\n",
    "                'image': _bytes_feature(img_bytes),\n",
    "                'bbxs': tf.train.Feature(int64_list = tf.train.Int64List(value = new_bbxs)),\n",
    "                'faces': tf.train.Feature(int64_list = tf.train.Int64List(value = [face_count]))\n",
    "            })\n",
    "        )"
   ]
  },
  {
   "cell_type": "code",
   "execution_count": 5,
   "metadata": {},
   "outputs": [],
   "source": [
    "def convertToDataSet(labels_path, imgdata_path, output_path, limit = -1):\n",
    "    with open(labels_path) as f:\n",
    "        lines = f.readlines()\n",
    "        curr_bounding_boxes = []\n",
    "        curr_filename = \"\"\n",
    "        first = True\n",
    "        counter = 1\n",
    "        prevWasBegin = False\n",
    "        with tf.io.TFRecordWriter(output_path) as writer:\n",
    "            for line in lines:\n",
    "                if limit != -1 and counter >= limit: break\n",
    "\n",
    "                line = line.replace(\"\\n\", \"\")\n",
    "                if prevWasBegin:\n",
    "                    prevWasBegin = False\n",
    "                    continue\n",
    "                \n",
    "                if \"/\" in line:\n",
    "                    if not first:\n",
    "                        writer.write(\n",
    "                            tf.train.Example.SerializeToString(\n",
    "                                    create_feature(imgdata_path, curr_filename, curr_bounding_boxes)\n",
    "                            )\n",
    "                        )\n",
    "                        curr_bounding_boxes = []\n",
    "                        counter +=1\n",
    "                    curr_filename = line\n",
    "                    prevWasBegin = True\n",
    "                    continue\n",
    "                \n",
    "                first = False\n",
    "\n",
    "                line = line.strip()\n",
    "                split = line.split(\" \")\n",
    "                next = []\n",
    "\n",
    "                for num in split:\n",
    "                    next.append(int(num))\n",
    "\n",
    "                curr_bounding_boxes.append(next)\n",
    "        print(counter)"
   ]
  },
  {
   "cell_type": "code",
   "execution_count": 6,
   "metadata": {},
   "outputs": [
    {
     "name": "stdout",
     "output_type": "stream",
     "text": [
      "3226\n"
     ]
    }
   ],
   "source": [
    "#create validation dataset\n",
    "convertToDataSet(VALIDATION_LABELS, VALIDATION_IMAGES, OUTPUT_VALIDATION_TFRECORD)"
   ]
  },
  {
   "cell_type": "code",
   "execution_count": 6,
   "metadata": {},
   "outputs": [
    {
     "name": "stdout",
     "output_type": "stream",
     "text": [
      "12880\n"
     ]
    }
   ],
   "source": [
    "#create train dataset\n",
    "convertToDataSet(TRAIN_LABELS, TRAIN_IMAGES, OUTPUT_TRAIN_TFRECORD)"
   ]
  }
 ],
 "metadata": {
  "interpreter": {
   "hash": "24c78f2902c3eaca8402099206b187d2e0c79b256a5a127d981db2350636b3f9"
  },
  "kernelspec": {
   "display_name": "Python 3.8.10 64-bit ('tf': venv)",
   "language": "python",
   "name": "python3"
  },
  "language_info": {
   "codemirror_mode": {
    "name": "ipython",
    "version": 3
   },
   "file_extension": ".py",
   "mimetype": "text/x-python",
   "name": "python",
   "nbconvert_exporter": "python",
   "pygments_lexer": "ipython3",
   "version": "3.8.10"
  },
  "orig_nbformat": 4
 },
 "nbformat": 4,
 "nbformat_minor": 2
}
