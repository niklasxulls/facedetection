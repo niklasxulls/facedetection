{
 "cells": [
  {
   "cell_type": "code",
   "execution_count": null,
   "metadata": {},
   "outputs": [],
   "source": [
    "import os\n",
    "import matplotlib.pyplot as plt\n",
    "import tensorflow as tf\n",
    "from tensorflow.keras import *\n",
    "import numpy as np\n",
    "import sys, os\n",
    "os.chdir('..')\n",
    "join = os.path.join(os.getcwd(), '_global')\n",
    "sys.path.extend([join])\n",
    "from _global.config import *\n",
    "from _global.funcs import *\n",
    "from _global.bbx import *\n",
    "sys.path.extend([RESEARCH])\n",
    "from object_detection.utils import config_util\n",
    "from object_detection.builders import model_builder\n",
    "from IPython import get_ipython\n",
    "import cv2 \n",
    "tf.compat.v1.logging.set_verbosity(tf.compat.v1.logging.INFO)\n",
    "ipython = get_ipython()"
   ]
  },
  {
   "cell_type": "code",
   "execution_count": null,
   "metadata": {},
   "outputs": [],
   "source": [
    "def find_and_extract_face_from_img(img, model, output_path_with_filename=None):\n",
    "    shape = img.shape\n",
    "    prediction = predict_for_image(np.array(img), model)\n",
    "\n",
    "    best_bbx = get_best_bbx(prediction['detection_boxes'],prediction['detection_scores'])\n",
    "    best_bbx[0]*= shape[0]\n",
    "    best_bbx[1] *= shape[1]\n",
    "    best_bbx[2] *= shape[0]\n",
    "    best_bbx[3] *= shape[1]\n",
    "\n",
    "    face = img[int(shape[0] -best_bbx[2]):int(shape[0] -best_bbx[0]), int(best_bbx[1]):int(best_bbx[3])]\n",
    "    face = cv2.resize(face, (RECOG_IMAGE_SIZES[1], RECOG_IMAGE_SIZES[0]))\n",
    "    if output_path_with_filename == None:\n",
    "        return face\n",
    "    cv2.imwrite(output_path_with_filename,face)"
   ]
  },
  {
   "cell_type": "code",
   "execution_count": null,
   "metadata": {},
   "outputs": [],
   "source": [
    "def find_and_extract_faces(input_path, output_path, model):\n",
    "    if not os.path.exists(output_path):\n",
    "        os.mkdir(output_path)\n",
    "    imgs = [(f ,cv2.imread(os.path.join(input_path, f))) for f in os.listdir(input_path)]\n",
    "    for i in range(len(imgs)):\n",
    "        filename, img = imgs[i]\n",
    "        find_and_extract_face(img, model, os.path.join(output_path, filename))"
   ]
  }
 ],
 "metadata": {
  "language_info": {
   "name": "python"
  },
  "orig_nbformat": 4
 },
 "nbformat": 4,
 "nbformat_minor": 2
}
