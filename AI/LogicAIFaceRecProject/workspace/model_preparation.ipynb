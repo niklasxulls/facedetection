{
 "cells": [
  {
   "cell_type": "code",
   "execution_count": null,
   "metadata": {},
   "outputs": [],
   "source": [
    "import os\n",
    "from _global.config import *\n",
    "from _global.funcs import *\n"
   ]
  },
  {
   "cell_type": "code",
   "execution_count": null,
   "metadata": {},
   "outputs": [],
   "source": [
    "os.mkdir(MODELS_PATH)\n",
    "os.mkdir(PRETRAINED_MODELS_PATH)"
   ]
  },
  {
   "cell_type": "code",
   "execution_count": null,
   "metadata": {},
   "outputs": [],
   "source": [
    "url = \"http://download.tensorflow.org/models/object_detection/tf2/20200711/ssd_mobilenet_v2_fpnlite_640x640_coco17_tpu-8.tar.gz\"\n",
    "output_path = PRETRAINED_MODELS_PATH\n",
    "output_name = \"ssd_mobilenet_v2_fpnlite_640x640_coco17_tpu-8\"\n",
    "extractTar(url, output_path, output_name)\n",
    "modeldir = os.path.join(MODELS_PATH, output_name)\n",
    "v1 = os.path.join(modeldir, \"v1\")\n",
    "os.mkdir(v1)\n",
    "\n",
    "os.chdir(v1)\n",
    "\n",
    "!copy {os.path.join(PRETRAINED_MODELS_PATH, output_name, \"pipeline.config\")} {v1}\n",
    "os.chdir(INSTALLATION_PATH)"
   ]
  },
  {
   "cell_type": "code",
   "execution_count": null,
   "metadata": {},
   "outputs": [],
   "source": []
  }
 ],
 "metadata": {
  "interpreter": {
   "hash": "705bbc35638b6b0137416a4d11f2035b50e8f96623570785bfdd273baabb878a"
  },
  "kernelspec": {
   "display_name": "Python 3.8.8 64-bit ('tf': venv)",
   "language": "python",
   "name": "python3"
  },
  "language_info": {
   "codemirror_mode": {
    "name": "ipython",
    "version": 3
   },
   "file_extension": ".py",
   "mimetype": "text/x-python",
   "name": "python",
   "nbconvert_exporter": "python",
   "pygments_lexer": "ipython3",
   "version": "3.8.8"
  },
  "orig_nbformat": 4
 },
 "nbformat": 4,
 "nbformat_minor": 2
}
